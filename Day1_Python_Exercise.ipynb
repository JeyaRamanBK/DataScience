{
 "cells": [
  {
   "cell_type": "markdown",
   "metadata": {},
   "source": [
    "### The questions for the exercises are given above the cells and the expected output is given below the cell. Please type the code inserting a new cell below the question because if you run the expected output cell the output would vanish! Happy learning! "
   ]
  },
  {
   "cell_type": "markdown",
   "metadata": {},
   "source": [
    "## Exercise Question 1: Given an input list removes the element at index 4 and add it to the 2nd position and also, at the end of the list"
   ]
  },
  {
   "cell_type": "code",
   "execution_count": 1,
   "metadata": {},
   "outputs": [
    {
     "name": "stdout",
     "output_type": "stream",
     "text": [
      "Original list  [34, 54, 67, 89, 11, 43, 94]\n",
      "List After removing element at index 4  [34, 54, 67, 89, 43, 94]\n",
      "List after Adding element at index 2  [34, 54, 11, 67, 89, 43, 94]\n",
      "List after Adding element at last  [34, 54, 11, 67, 89, 43, 94, 11]\n"
     ]
    }
   ],
   "source": [
    "# Declare/Initialize the original list\n",
    "orig_list = [34, 54, 67, 89, 11, 43, 94]\n",
    "print ('Original list', orig_list)\n",
    "\n",
    "#Get the element from the 4th index of the original list\n",
    "rem_val=orig_list[4]\n",
    "\n",
    "#Remove element from the 4th index of the original list\n",
    "orig_list.pop(4)\n",
    "print ('List After Removing Element at index 4',orig_list)\n",
    "\n",
    "#Add the removed element into the 2nd position of the original list\n",
    "orig_list.insert(2,rem_val)\n",
    "print ('List After Adding element at index 2',orig_list)\n",
    "\n",
    "#Add the removed element into the 2nd position of the original list\n",
    "orig_list.append(11)\n",
    "print ('List After Adding element at last',orig_list)"
   ]
  },
  {
   "cell_type": "markdown",
   "metadata": {},
   "source": [
    "## Exercise Question 2: Given a Python list you should be able to display Python list in the following order"
   ]
  },
  {
   "cell_type": "code",
   "execution_count": 2,
   "metadata": {},
   "outputs": [
    {
     "name": "stdout",
     "output_type": "stream",
     "text": [
      "The Original List is: [100, 200, 300, 400, 500]\n",
      "The Expected result is:  [500, 400, 300, 200, 100]\n"
     ]
    }
   ],
   "source": [
    "# Declare/Initialize the original list\n",
    "orig_list = [100, 200, 300, 400, 500]\n",
    "print ('The Original List is :',orig_list)\n",
    "\n",
    "# Apply Reverse sort on the original list\n",
    "orig_list.sort(reverse=True)\n",
    "print ('The Expected result is :',orig_list)"
   ]
  },
  {
   "cell_type": "markdown",
   "metadata": {},
   "source": [
    "## Exercise Question 3: Concatenate (join) two lists in the following order\n"
   ]
  },
  {
   "cell_type": "code",
   "execution_count": 3,
   "metadata": {},
   "outputs": [
    {
     "name": "stdout",
     "output_type": "stream",
     "text": [
      "The original list1: ['Hello ', 'take ']\n",
      "The original list2: ['Dear', 'Sir']\n",
      "The Expected result is: ['Hello ', 'take ', 'Dear', 'Sir']\n"
     ]
    }
   ],
   "source": [
    "# Declare/Initialize lists\n",
    "orig_list1 = ['Hello ', 'take ']\n",
    "print ('The Original List1 :',orig_list1)\n",
    "\n",
    "orig_list2 = ['Dear', 'Sir']\n",
    "print ('The Original List2:',orig_list1)\n",
    "\n",
    "# Join/Concatenate the list\n",
    "print ('The Expected result is :',orig_list1+orig_list2)"
   ]
  },
  {
   "cell_type": "markdown",
   "metadata": {},
   "source": [
    "## Exercise Question 4: Add item 7000 after 6000 in the following Python List"
   ]
  },
  {
   "cell_type": "code",
   "execution_count": 12,
   "metadata": {},
   "outputs": [
    {
     "name": "stdout",
     "output_type": "stream",
     "text": [
      "The original list is: [10, 20, [300, 400, [5000, 6000], 500], 30, 40]\n",
      "The expected list is: [10, 20, [300, 400, [5000, 6000, 7000], 500], 30, 40]\n"
     ]
    }
   ],
   "source": [
    "# Declare/Initialize lists\n",
    "orig_list = [10, 20, [300, 400, [5000, 6000], 500], 30, 40]\n",
    "print ('The Original List is :',orig_list)\n",
    "\n",
    "# Add item 7000 after 6000 in the original list\n",
    "orig_list[2][2].append(7000)\n",
    "print ('The Expected result is :',orig_list)"
   ]
  },
  {
   "cell_type": "markdown",
   "metadata": {},
   "source": [
    "## Exercise Question 5: Given a nested list extend it with adding sub list [\"h\", \"i\", \"j\"] in a such a way that it will look like the"
   ]
  },
  {
   "cell_type": "code",
   "execution_count": 14,
   "metadata": {},
   "outputs": [
    {
     "name": "stdout",
     "output_type": "stream",
     "text": [
      "The original List is: ['a', 'b', ['c', ['d', 'e', ['f', 'g'], 'k'], 'l'], 'm', 'n']\n",
      "The expected result is: ['a', 'b', ['c', ['d', 'e', ['f', 'g', 'h', 'i', 'j'], 'k'], 'l'], 'm', 'n']\n"
     ]
    }
   ],
   "source": [
    "# Declare/Initialize lists\n",
    "orig_list = ['a', 'b', ['c', ['d', 'e', ['f', 'g'], 'k'], 'l'], 'm', 'n']\n",
    "print ('The Original List is :',orig_list)\n",
    "\n",
    "sub_list = ['h','i','j']\n",
    "\n",
    "# Add sub list['h','i','j'] at the end of inner most sub list of original list\n",
    "orig_list[2][1][2].extend(sub_list)\n",
    "print ('The Expected result is :',orig_list)"
   ]
  },
  {
   "cell_type": "markdown",
   "metadata": {},
   "source": [
    "## Exercise Question 6: Given a Python list, find value 20 in the list, and if it is present, replace it with 200. Only update the first occurrence of a value"
   ]
  },
  {
   "cell_type": "code",
   "execution_count": 15,
   "metadata": {},
   "outputs": [
    {
     "name": "stdout",
     "output_type": "stream",
     "text": [
      "The original list is: [5, 10, 15, 20, 25, 50, 20]\n",
      "The expected output is: [5, 10, 15, 200, 25, 50, 20]\n"
     ]
    }
   ],
   "source": [
    "# Declare/Initialize lists\n",
    "orig_list = [5, 10, 15, 20, 25, 50, 20]\n",
    "print ('The Original List is :',orig_list)\n",
    "\n",
    "#Get the index position of value 20 in the list\n",
    "str_pos= orig_list.index(20)\n",
    "\n",
    "#Replace the 1st occurance of the value 20 with 200\n",
    "orig_list[str_pos]=200\n",
    "print ('The Expected result is :',orig_list)"
   ]
  },
  {
   "cell_type": "code",
   "execution_count": null,
   "metadata": {},
   "outputs": [],
   "source": []
  }
 ],
 "metadata": {
  "kernelspec": {
   "display_name": "Python 3",
   "language": "python",
   "name": "python3"
  },
  "language_info": {
   "codemirror_mode": {
    "name": "ipython",
    "version": 3
   },
   "file_extension": ".py",
   "mimetype": "text/x-python",
   "name": "python",
   "nbconvert_exporter": "python",
   "pygments_lexer": "ipython3",
   "version": "3.8.5"
  }
 },
 "nbformat": 4,
 "nbformat_minor": 4
}
