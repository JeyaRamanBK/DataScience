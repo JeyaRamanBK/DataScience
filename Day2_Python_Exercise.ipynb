{
 "cells": [
  {
   "cell_type": "markdown",
   "metadata": {},
   "source": [
    "### The questions for the exercises are given above the cells and the expected output is given below the cell. Please type the code inserting a new cell below the question because if you run the expected output cell the output would vanish! Happy learning! "
   ]
  },
  {
   "cell_type": "markdown",
   "metadata": {},
   "source": [
    "## 1. Write a Python program to count the number of even and odd numbers from a series of numbers."
   ]
  },
  {
   "cell_type": "code",
   "execution_count": 3,
   "metadata": {},
   "outputs": [
    {
     "name": "stdout",
     "output_type": "stream",
     "text": [
      "Number of even number : 8\n",
      "Number of odd number : 7\n"
     ]
    }
   ],
   "source": [
    "# Variable Initialization\n",
    "odd_no = 0;\n",
    "even_no = 0;\n",
    "for i in range(15):\n",
    "    # Check whether the given number is odd or even\n",
    "    if i%2 == 0:\n",
    "        even_no = even_no+1\n",
    "    else:\n",
    "        odd_no = odd_no+1\n",
    "        \n",
    "print ('Number of even number :',even_no)        \n",
    "print ('Number of odd number :',odd_no)"
   ]
  },
  {
   "cell_type": "markdown",
   "metadata": {},
   "source": [
    "## 2. Write a Python program to find numbers between 100 and 400 (both included) where each digit of a number is an even number. The numbers obtained should be printed in a comma-separated sequence."
   ]
  },
  {
   "cell_type": "code",
   "execution_count": 2,
   "metadata": {},
   "outputs": [
    {
     "name": "stdout",
     "output_type": "stream",
     "text": [
      "200,202,204,206,208,220,222,224,226,228,240,242,244,246,248,260,262,264,266,268,280,282,284,286,288,400,"
     ]
    }
   ],
   "source": [
    "#Program to find all the digits from the given numbers are even.\n",
    "for i in range(100,401):\n",
    "    num_str = str(i)\n",
    "    if (int(num_str[0])%2==0 and int(num_str[1])%2==0 and int(num_str[2])%2==0):\n",
    "        print(i,end=',')"
   ]
  },
  {
   "cell_type": "markdown",
   "metadata": {},
   "source": [
    "## 3. Write a Python program to calculate a dog's age in dog's years. Go to the editor\n",
    "Note: For the first two years, a dog year is equal to 10.5 human years. After that, each dog year equals 4 human years."
   ]
  },
  {
   "cell_type": "code",
   "execution_count": 7,
   "metadata": {},
   "outputs": [
    {
     "name": "stdout",
     "output_type": "stream",
     "text": [
      "Enter Human Age for Dog's Age Calculation:10\n",
      "Dog's Age in Human years 10\n",
      "Dog's Age in Dog's years 53.0\n"
     ]
    }
   ],
   "source": [
    "#Program to calculate the Dog's age in dog's years \n",
    "# Get the user input of human age to calculate the dog's age\n",
    "human_age = int(input(\"Enter Human Age for Dog's Age Calculation:\"))\n",
    "doc_first_year = 2\n",
    "# Calculate the age diff btw the current age excluding the first 2yrs.\n",
    "age_diff=human_age-doc_first_year\n",
    "# Calcluate the Dog's Age.\n",
    "dog_age = (doc_first_year*10.5)+(age_diff*4)\n",
    "\n",
    "print(\"Dog's Age in Human years\",human_age)\n",
    "print(\"Dog's Age in Dog's years\",dog_age)\n",
    "\n"
   ]
  },
  {
   "cell_type": "markdown",
   "metadata": {},
   "source": [
    "## 4. Write a Python function that takes a number as a parameter and check the number is prime or not."
   ]
  },
  {
   "cell_type": "code",
   "execution_count": 10,
   "metadata": {},
   "outputs": [
    {
     "name": "stdout",
     "output_type": "stream",
     "text": [
      "The number is : 9\n"
     ]
    },
    {
     "data": {
      "text/plain": [
       "False"
      ]
     },
     "execution_count": 10,
     "metadata": {},
     "output_type": "execute_result"
    }
   ],
   "source": [
    "# Program to check whether the given is number is prime or not.\n",
    "def func_is_prime(p_num):\n",
    "    v_num = 1\n",
    "    print (\"The number is :\",p_num)\n",
    "    for i in range(1,p_num):\n",
    "        # Check if the number is divisible by all the numbers.\n",
    "        if p_num%i == 0:\n",
    "           v_num = 0        \n",
    "    # Return the boolen value of the result.    \n",
    "    return bool(v_num)\n",
    "\n",
    "func_is_prime(9)    \n",
    "            \n",
    "                     \n"
   ]
  },
  {
   "cell_type": "markdown",
   "metadata": {},
   "source": [
    "## 5. Write a Python function that accepts a string and calculate the number of upper case letters and lower case letters. Go to the editor\n"
   ]
  },
  {
   "cell_type": "code",
   "execution_count": 13,
   "metadata": {},
   "outputs": [
    {
     "name": "stdout",
     "output_type": "stream",
     "text": [
      "Original String : This Input is to Check the String Count\n",
      "No. of Upper case characters : 5\n",
      "No. of Lower case characters : 27\n"
     ]
    }
   ],
   "source": [
    "# Program to count the upper,lower case letters from the given string.\n",
    "def func_str_case_count(p_str):\n",
    "    v_uc_cnt = 0\n",
    "    v_lc_cnt = 0\n",
    "    print('Original String :',p_str)\n",
    "    for i in p_str:\n",
    "       if i.isupper():\n",
    "           v_uc_cnt = v_uc_cnt +1\n",
    "       elif i.islower():\n",
    "           v_lc_cnt = v_lc_cnt +1\n",
    "       else:\n",
    "           continue\n",
    "            \n",
    "    print(\"No. of Upper case characters :\",v_uc_cnt)\n",
    "    print(\"No. of Lower case characters :\",v_lc_cnt)        \n",
    "    \n",
    "func_str_case_count('This Input is to Check the String Count')"
   ]
  },
  {
   "cell_type": "markdown",
   "metadata": {},
   "source": [
    "## 6. Write a Python program to reverse a string. "
   ]
  },
  {
   "cell_type": "code",
   "execution_count": 18,
   "metadata": {},
   "outputs": [
    {
     "name": "stdout",
     "output_type": "stream",
     "text": [
      "The Original string is : Input to test the reverse String\n",
      "The reversed string is : gnirtS esrever eht tset ot tupnI\n"
     ]
    },
    {
     "data": {
      "text/plain": [
       "'gnirtS esrever eht tset ot tupnI'"
      ]
     },
     "execution_count": 18,
     "metadata": {},
     "output_type": "execute_result"
    }
   ],
   "source": [
    "# Program to print the string the in the reverse order\n",
    "def func_str_reverse(p_str):\n",
    "    print(\"The Original string is :\",p_str)\n",
    "    print(\"The reversed string is :\",p_str[::-1])\n",
    "    return p_str[::-1]\n",
    "    \n",
    "    \n",
    "func_str_reverse('Input to test the reverse String')    \n"
   ]
  },
  {
   "cell_type": "markdown",
   "metadata": {},
   "source": [
    "## 7. Write a Python program to find  the greatest common divisor (gcd) of two integers."
   ]
  },
  {
   "cell_type": "code",
   "execution_count": 20,
   "metadata": {},
   "outputs": [
    {
     "name": "stdout",
     "output_type": "stream",
     "text": [
      "The tow numbers are : (12, 15)\n",
      "The GCD of the numbers are : 3\n"
     ]
    }
   ],
   "source": [
    "#Program to find the greatest common divisor of two integers\n",
    "def func_gcd(a,b):\n",
    "    # Find the smallest number from to define the loop iterable.\n",
    "    print(\"The tow numbers are :\",(a,b))\n",
    "    if a > b:\n",
    "        v_small =b\n",
    "    else:\n",
    "        v_small =a\n",
    "            \n",
    "    for i in range(1,v_small+1):\n",
    "        if (a%i==0 and b%i==0):\n",
    "            gcd = i\n",
    "    print (\"The GCD of the numbers are :\",gcd)\n",
    "            \n",
    "func_gcd(12,15)  "
   ]
  },
  {
   "cell_type": "code",
   "execution_count": null,
   "metadata": {},
   "outputs": [],
   "source": []
  }
 ],
 "metadata": {
  "kernelspec": {
   "display_name": "Python 3",
   "language": "python",
   "name": "python3"
  },
  "language_info": {
   "codemirror_mode": {
    "name": "ipython",
    "version": 3
   },
   "file_extension": ".py",
   "mimetype": "text/x-python",
   "name": "python",
   "nbconvert_exporter": "python",
   "pygments_lexer": "ipython3",
   "version": "3.8.5"
  }
 },
 "nbformat": 4,
 "nbformat_minor": 4
}
